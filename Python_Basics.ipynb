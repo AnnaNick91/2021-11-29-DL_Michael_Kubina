{
 "cells": [
  {
   "cell_type": "markdown",
   "id": "b9d956af",
   "metadata": {},
   "source": [
    "# Python Einführung\n",
    "\n",
    "2021-11-30 - Michael Kubina"
   ]
  },
  {
   "cell_type": "code",
   "execution_count": 1,
   "id": "1a0bb387",
   "metadata": {},
   "outputs": [
    {
     "name": "stdout",
     "output_type": "stream",
     "text": [
      "Hallo Welt\n"
     ]
    }
   ],
   "source": [
    "print(\"Hallo Welt\")"
   ]
  },
  {
   "cell_type": "markdown",
   "id": "debe49df",
   "metadata": {},
   "source": [
    "## Einfache Datentypen"
   ]
  },
  {
   "cell_type": "code",
   "execution_count": 2,
   "id": "162bde66",
   "metadata": {},
   "outputs": [
    {
     "name": "stdout",
     "output_type": "stream",
     "text": [
      "Lovelace\n"
     ]
    },
    {
     "data": {
      "text/plain": [
       "str"
      ]
     },
     "execution_count": 2,
     "metadata": {},
     "output_type": "execute_result"
    }
   ],
   "source": [
    "# String\n",
    "name = \"Lovelace\"\n",
    "print(name)\n",
    "type(name)"
   ]
  },
  {
   "cell_type": "code",
   "execution_count": 3,
   "id": "c31fed70",
   "metadata": {},
   "outputs": [
    {
     "name": "stdout",
     "output_type": "stream",
     "text": [
      "37\n"
     ]
    },
    {
     "data": {
      "text/plain": [
       "int"
      ]
     },
     "execution_count": 3,
     "metadata": {},
     "output_type": "execute_result"
    }
   ],
   "source": [
    "# Integer\n",
    "age = 37\n",
    "print(age)\n",
    "type(age)"
   ]
  },
  {
   "cell_type": "code",
   "execution_count": 4,
   "id": "b1931b95",
   "metadata": {},
   "outputs": [
    {
     "name": "stdout",
     "output_type": "stream",
     "text": [
      "Pi = 3.1415\n"
     ]
    },
    {
     "data": {
      "text/plain": [
       "float"
      ]
     },
     "execution_count": 4,
     "metadata": {},
     "output_type": "execute_result"
    }
   ],
   "source": [
    "# Float\n",
    "pi = 3.1415\n",
    "print(\"Pi = \" + str(pi))\n",
    "type(pi)"
   ]
  },
  {
   "cell_type": "code",
   "execution_count": 5,
   "id": "ac4f511a",
   "metadata": {},
   "outputs": [
    {
     "name": "stdout",
     "output_type": "stream",
     "text": [
      "Lovelace ist smart? => True\n"
     ]
    },
    {
     "data": {
      "text/plain": [
       "bool"
      ]
     },
     "execution_count": 5,
     "metadata": {},
     "output_type": "execute_result"
    }
   ],
   "source": [
    "# Boolean\n",
    "is_smart = True\n",
    "print(name + \" ist smart? => \" + str(is_smart))\n",
    "type(is_smart)"
   ]
  },
  {
   "cell_type": "markdown",
   "id": "c61f49ee",
   "metadata": {},
   "source": [
    "## Operatoren"
   ]
  },
  {
   "cell_type": "code",
   "execution_count": 6,
   "id": "878997eb",
   "metadata": {},
   "outputs": [
    {
     "data": {
      "text/plain": [
       "10"
      ]
     },
     "execution_count": 6,
     "metadata": {},
     "output_type": "execute_result"
    }
   ],
   "source": [
    "5 + 5"
   ]
  },
  {
   "cell_type": "code",
   "execution_count": 7,
   "id": "e997f16f",
   "metadata": {},
   "outputs": [
    {
     "data": {
      "text/plain": [
       "3700"
      ]
     },
     "execution_count": 7,
     "metadata": {},
     "output_type": "execute_result"
    }
   ],
   "source": [
    "age * 100"
   ]
  },
  {
   "cell_type": "code",
   "execution_count": 8,
   "id": "de55df5d",
   "metadata": {},
   "outputs": [
    {
     "data": {
      "text/plain": [
       "157.07500000000002"
      ]
     },
     "execution_count": 8,
     "metadata": {},
     "output_type": "execute_result"
    }
   ],
   "source": [
    "2 * pi * 5 * 5"
   ]
  },
  {
   "cell_type": "code",
   "execution_count": 9,
   "id": "a97ed3f7",
   "metadata": {},
   "outputs": [
    {
     "data": {
      "text/plain": [
       "'LovelaceLovelace'"
      ]
     },
     "execution_count": 9,
     "metadata": {},
     "output_type": "execute_result"
    }
   ],
   "source": [
    "name + name"
   ]
  },
  {
   "cell_type": "code",
   "execution_count": 10,
   "id": "734a9d1b",
   "metadata": {},
   "outputs": [
    {
     "data": {
      "text/plain": [
       "'LovelaceLovelaceLovelaceLovelaceLovelaceLovelaceLovelaceLovelaceLovelaceLovelace'"
      ]
     },
     "execution_count": 10,
     "metadata": {},
     "output_type": "execute_result"
    }
   ],
   "source": [
    "name * 10"
   ]
  },
  {
   "cell_type": "code",
   "execution_count": 11,
   "id": "95e815eb",
   "metadata": {},
   "outputs": [
    {
     "data": {
      "text/plain": [
       "11.777813146586025"
      ]
     },
     "execution_count": 11,
     "metadata": {},
     "output_type": "execute_result"
    }
   ],
   "source": [
    "age / pi"
   ]
  },
  {
   "cell_type": "code",
   "execution_count": 12,
   "id": "b9d5d521",
   "metadata": {},
   "outputs": [
    {
     "data": {
      "text/plain": [
       "33.8585"
      ]
     },
     "execution_count": 12,
     "metadata": {},
     "output_type": "execute_result"
    }
   ],
   "source": [
    "age - pi"
   ]
  },
  {
   "cell_type": "code",
   "execution_count": 13,
   "id": "b10e83f9",
   "metadata": {},
   "outputs": [
    {
     "data": {
      "text/plain": [
       "1.3513513513513513"
      ]
     },
     "execution_count": 13,
     "metadata": {},
     "output_type": "execute_result"
    }
   ],
   "source": [
    "number_of_articles = \"50\"\n",
    "int(number_of_articles)/age"
   ]
  },
  {
   "cell_type": "markdown",
   "id": "66732190",
   "metadata": {},
   "source": [
    "## Funktionen"
   ]
  },
  {
   "cell_type": "code",
   "execution_count": 14,
   "id": "98eb858f",
   "metadata": {},
   "outputs": [
    {
     "data": {
      "text/plain": [
       "8"
      ]
     },
     "execution_count": 14,
     "metadata": {},
     "output_type": "execute_result"
    }
   ],
   "source": [
    "len(name)"
   ]
  },
  {
   "cell_type": "code",
   "execution_count": 15,
   "id": "d6526df9",
   "metadata": {},
   "outputs": [
    {
     "data": {
      "text/plain": [
       "'LOVELACE'"
      ]
     },
     "execution_count": 15,
     "metadata": {},
     "output_type": "execute_result"
    }
   ],
   "source": [
    "# Methode (zum Objekt \"string\" gehörend)\n",
    "name.upper()"
   ]
  },
  {
   "cell_type": "code",
   "execution_count": 16,
   "id": "5d6d4c13",
   "metadata": {},
   "outputs": [
    {
     "data": {
      "text/plain": [
       "2"
      ]
     },
     "execution_count": 16,
     "metadata": {},
     "output_type": "execute_result"
    }
   ],
   "source": [
    "name.count(\"E\")\n",
    "name.upper().count(\"E\")"
   ]
  },
  {
   "cell_type": "code",
   "execution_count": 17,
   "id": "e68cf846",
   "metadata": {},
   "outputs": [
    {
     "data": {
      "text/plain": [
       "'Lovelock'"
      ]
     },
     "execution_count": 17,
     "metadata": {},
     "output_type": "execute_result"
    }
   ],
   "source": [
    "name.replace(\"lace\", \"lock\")"
   ]
  },
  {
   "cell_type": "markdown",
   "id": "b86ae294",
   "metadata": {},
   "source": [
    "## Listen"
   ]
  },
  {
   "cell_type": "code",
   "execution_count": 18,
   "id": "af98e3bf",
   "metadata": {},
   "outputs": [
    {
     "name": "stdout",
     "output_type": "stream",
     "text": [
      "['Michael', 'Laura', 'Freja']\n"
     ]
    }
   ],
   "source": [
    "names = [\"Michael\", \"Laura\", \"Freja\"]\n",
    "print(names)"
   ]
  },
  {
   "cell_type": "code",
   "execution_count": 19,
   "id": "bebfdcc1",
   "metadata": {},
   "outputs": [
    {
     "name": "stdout",
     "output_type": "stream",
     "text": [
      "Michael\n"
     ]
    }
   ],
   "source": [
    "print(names[0])"
   ]
  },
  {
   "cell_type": "code",
   "execution_count": 20,
   "id": "ed38762b",
   "metadata": {},
   "outputs": [
    {
     "data": {
      "text/plain": [
       "'Laura'"
      ]
     },
     "execution_count": 20,
     "metadata": {},
     "output_type": "execute_result"
    }
   ],
   "source": [
    "names[-2]"
   ]
  },
  {
   "cell_type": "code",
   "execution_count": 21,
   "id": "29c78af6",
   "metadata": {},
   "outputs": [
    {
     "data": {
      "text/plain": [
       "['Michael', 'Laura']"
      ]
     },
     "execution_count": 21,
     "metadata": {},
     "output_type": "execute_result"
    }
   ],
   "source": [
    "names[0:2]"
   ]
  },
  {
   "cell_type": "code",
   "execution_count": 22,
   "id": "605cfb50",
   "metadata": {},
   "outputs": [
    {
     "data": {
      "text/plain": [
       "['Michael', 'Laura']"
      ]
     },
     "execution_count": 22,
     "metadata": {},
     "output_type": "execute_result"
    }
   ],
   "source": [
    "names[:2]"
   ]
  },
  {
   "cell_type": "code",
   "execution_count": 23,
   "id": "84a65d8b",
   "metadata": {},
   "outputs": [
    {
     "data": {
      "text/plain": [
       "['Freja']"
      ]
     },
     "execution_count": 23,
     "metadata": {},
     "output_type": "execute_result"
    }
   ],
   "source": [
    "names[2:]"
   ]
  },
  {
   "cell_type": "markdown",
   "id": "d81bbb15",
   "metadata": {},
   "source": [
    "## Dictionary"
   ]
  },
  {
   "cell_type": "code",
   "execution_count": 24,
   "id": "1148f2ae",
   "metadata": {},
   "outputs": [],
   "source": [
    "authors_and_birth_years = {\"Lovelace\": 1815, \n",
    "                           \"Darwin\": 1809,\n",
    "                           \"Noeter\": 1882, \n",
    "                           \"Hawking\": 1942}"
   ]
  },
  {
   "cell_type": "code",
   "execution_count": 25,
   "id": "e76082ee",
   "metadata": {},
   "outputs": [
    {
     "data": {
      "text/plain": [
       "1815"
      ]
     },
     "execution_count": 25,
     "metadata": {},
     "output_type": "execute_result"
    }
   ],
   "source": [
    "authors_and_birth_years[\"Lovelace\"]"
   ]
  },
  {
   "cell_type": "code",
   "execution_count": 26,
   "id": "64965930",
   "metadata": {},
   "outputs": [],
   "source": [
    "authors_and_birth_years = {\"Lovelace\": [1815, 1820, {\"London\": 1850, \"Paris\": 1870}], \n",
    "                           \"Darwin\": 1809,\n",
    "                           \"Noeter\": 1882, \n",
    "                           \"Hawking\": 1942}"
   ]
  },
  {
   "cell_type": "code",
   "execution_count": 27,
   "id": "5c97938f",
   "metadata": {},
   "outputs": [
    {
     "data": {
      "text/plain": [
       "1850"
      ]
     },
     "execution_count": 27,
     "metadata": {},
     "output_type": "execute_result"
    }
   ],
   "source": [
    "authors_and_birth_years[\"Lovelace\"][2][\"London\"]"
   ]
  },
  {
   "cell_type": "markdown",
   "id": "4f236235",
   "metadata": {},
   "source": [
    "## for loop"
   ]
  },
  {
   "cell_type": "code",
   "execution_count": 28,
   "id": "5172c508",
   "metadata": {},
   "outputs": [],
   "source": [
    "names = [\"Michael\", \"Laura\", \"Freja\"]"
   ]
  },
  {
   "cell_type": "code",
   "execution_count": 29,
   "id": "c1aca985",
   "metadata": {},
   "outputs": [
    {
     "name": "stdout",
     "output_type": "stream",
     "text": [
      "Michael Kubina\n",
      "Laura Kubina\n",
      "Freja Kubina\n"
     ]
    }
   ],
   "source": [
    "for person in names:\n",
    "    print(person + \" \" + \"Kubina\")"
   ]
  },
  {
   "cell_type": "code",
   "execution_count": 30,
   "id": "c0c2eb09",
   "metadata": {},
   "outputs": [
    {
     "name": "stdout",
     "output_type": "stream",
     "text": [
      "Michael Kubina\n",
      "------------\n",
      "Laura Kubina\n",
      "------------\n",
      "Freja Kubina\n",
      "------------\n"
     ]
    }
   ],
   "source": [
    "for person in names:\n",
    "    print(person + \" \" + \"Kubina\")\n",
    "    print(\"------------\")"
   ]
  },
  {
   "cell_type": "code",
   "execution_count": 31,
   "id": "aee9a7c5",
   "metadata": {},
   "outputs": [
    {
     "name": "stdout",
     "output_type": "stream",
     "text": [
      "Michael Kubina\n",
      "Laura Kubina\n",
      "Freja Kubina\n",
      "------------\n"
     ]
    }
   ],
   "source": [
    "for person in names:\n",
    "    print(person + \" \" + \"Kubina\")\n",
    "print(\"------------\")"
   ]
  },
  {
   "cell_type": "markdown",
   "id": "954d1fc2",
   "metadata": {},
   "source": [
    "## ZEN of Python"
   ]
  },
  {
   "cell_type": "code",
   "execution_count": 32,
   "id": "1bff41bb",
   "metadata": {},
   "outputs": [
    {
     "name": "stdout",
     "output_type": "stream",
     "text": [
      "The Zen of Python, by Tim Peters\n",
      "\n",
      "Beautiful is better than ugly.\n",
      "Explicit is better than implicit.\n",
      "Simple is better than complex.\n",
      "Complex is better than complicated.\n",
      "Flat is better than nested.\n",
      "Sparse is better than dense.\n",
      "Readability counts.\n",
      "Special cases aren't special enough to break the rules.\n",
      "Although practicality beats purity.\n",
      "Errors should never pass silently.\n",
      "Unless explicitly silenced.\n",
      "In the face of ambiguity, refuse the temptation to guess.\n",
      "There should be one-- and preferably only one --obvious way to do it.\n",
      "Although that way may not be obvious at first unless you're Dutch.\n",
      "Now is better than never.\n",
      "Although never is often better than *right* now.\n",
      "If the implementation is hard to explain, it's a bad idea.\n",
      "If the implementation is easy to explain, it may be a good idea.\n",
      "Namespaces are one honking great idea -- let's do more of those!\n"
     ]
    }
   ],
   "source": [
    "import this"
   ]
  },
  {
   "cell_type": "markdown",
   "id": "d411a0b8",
   "metadata": {},
   "source": [
    "## Conditionals / Bedingte Anweisungen"
   ]
  },
  {
   "cell_type": "code",
   "execution_count": 33,
   "id": "384bade8",
   "metadata": {},
   "outputs": [
    {
     "name": "stdout",
     "output_type": "stream",
     "text": [
      "Kalt\n"
     ]
    }
   ],
   "source": [
    "temperature = 20\n",
    "if temperature < 23:\n",
    "    print(\"Kalt\")\n",
    "else:\n",
    "    print(\"Warm\")"
   ]
  },
  {
   "cell_type": "code",
   "execution_count": 34,
   "id": "7033b368",
   "metadata": {},
   "outputs": [
    {
     "name": "stdout",
     "output_type": "stream",
     "text": [
      "Heiß\n"
     ]
    }
   ],
   "source": [
    "temperature = 32\n",
    "if temperature >= 30:\n",
    "    print(\"Heiß\")\n",
    "elif temperature >= 23:\n",
    "    print(\"Warm\")\n",
    "else:\n",
    "    print(\"Kalt\")"
   ]
  },
  {
   "cell_type": "markdown",
   "id": "037c04f4",
   "metadata": {},
   "source": [
    "## Übung \"Lieblingsessen\""
   ]
  },
  {
   "cell_type": "code",
   "execution_count": 35,
   "id": "3ef177cc",
   "metadata": {},
   "outputs": [],
   "source": [
    "lieblingsessen = {\"Laura\": \"Fisch\",\n",
    "                  \"Linda\": \"Pizza\",\n",
    "                  \"Nadine\": \"Nudeln\",\n",
    "                  \"Michael\": \"Reis\"}"
   ]
  },
  {
   "cell_type": "code",
   "execution_count": 36,
   "id": "2247ebef",
   "metadata": {},
   "outputs": [
    {
     "name": "stdout",
     "output_type": "stream",
     "text": [
      "Laura mag am liebsten: Fisch\n",
      "Linda mag am liebsten: Pizza\n",
      "Nadine mag am liebsten: Nudeln\n",
      "Michael mag am liebsten: Reis\n"
     ]
    }
   ],
   "source": [
    "for person in lieblingsessen.keys():\n",
    "    print(person + \" \" + \"mag am liebsten: \" + lieblingsessen[person])"
   ]
  },
  {
   "cell_type": "code",
   "execution_count": 38,
   "id": "25063678",
   "metadata": {},
   "outputs": [
    {
     "name": "stdout",
     "output_type": "stream",
     "text": [
      "Laura\n",
      "Linda\n",
      "Nadine\n",
      "Michael\n"
     ]
    }
   ],
   "source": [
    "for person in lieblingsessen:\n",
    "    print(person)"
   ]
  },
  {
   "cell_type": "code",
   "execution_count": 39,
   "id": "7e547d32",
   "metadata": {},
   "outputs": [
    {
     "name": "stdout",
     "output_type": "stream",
     "text": [
      "Laura mag am liebsten: Fisch\n",
      "Linda mag am liebsten: Pizza\n",
      "Nadine mag am liebsten: Nudeln\n",
      "Michael mag am liebsten: Reis\n"
     ]
    }
   ],
   "source": [
    "for person in lieblingsessen:\n",
    "    print(person + \" \" + \"mag am liebsten: \" + lieblingsessen[person])"
   ]
  },
  {
   "cell_type": "code",
   "execution_count": null,
   "id": "604eb1ce",
   "metadata": {},
   "outputs": [],
   "source": []
  }
 ],
 "metadata": {
  "kernelspec": {
   "display_name": "Python 3 (ipykernel)",
   "language": "python",
   "name": "python3"
  },
  "language_info": {
   "codemirror_mode": {
    "name": "ipython",
    "version": 3
   },
   "file_extension": ".py",
   "mimetype": "text/x-python",
   "name": "python",
   "nbconvert_exporter": "python",
   "pygments_lexer": "ipython3",
   "version": "3.9.7"
  }
 },
 "nbformat": 4,
 "nbformat_minor": 5
}

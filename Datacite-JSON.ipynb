{
 "cells": [
  {
   "cell_type": "code",
   "execution_count": 1,
   "id": "dac9561a",
   "metadata": {},
   "outputs": [],
   "source": [
    "# Importiere Bibliotheken\n",
    "\n",
    "# import urllib (gesamte Bibliothek mit allen Modulen)\n",
    "# import urllib.request (nur das request-Modul laden)\n",
    "import urllib.request\n",
    "\n",
    "import json\n",
    "\n",
    "# Dataset\n",
    "base_url = \"https://api.datacite.org/application/vnd.datacite.datacite+json/\"\n",
    "doi = \"10.5281/zenodo.5563162\"\n",
    "full_url = base_url + doi\n",
    "\n",
    "# Liste mit DOIs\n",
    "dois = [\"10.6084/m9.figshare.155613\",\n",
    "        \"10.6084/m9.figshare.153821.v1\",\n",
    "        \"10.7490/f1000research.1115338.1\",\n",
    "        \"10.5281/zenodo.2599866\"]"
   ]
  },
  {
   "cell_type": "code",
   "execution_count": 3,
   "id": "8f5a6dee",
   "metadata": {},
   "outputs": [],
   "source": [
    "# öffne URL und lese Daten ein\n",
    "doi_json_dataset = urllib.request.urlopen(full_url).read()"
   ]
  },
  {
   "cell_type": "code",
   "execution_count": 4,
   "id": "d8f47cd7",
   "metadata": {},
   "outputs": [],
   "source": [
    "# json.loads() steht für load-string\n",
    "doi_dataset = json.loads(doi_json_dataset)"
   ]
  },
  {
   "cell_type": "code",
   "execution_count": 5,
   "id": "3c71d1f1",
   "metadata": {},
   "outputs": [
    {
     "data": {
      "text/plain": [
       "{'id': 'https://doi.org/10.5281/zenodo.5563162',\n",
       " 'doi': '10.5281/ZENODO.5563162',\n",
       " 'url': 'https://zenodo.org/record/5563162',\n",
       " 'types': {'ris': 'DATA',\n",
       "  'bibtex': 'misc',\n",
       "  'citeproc': 'dataset',\n",
       "  'schemaOrg': 'Dataset',\n",
       "  'resourceTypeGeneral': 'Dataset'},\n",
       " 'creators': [{'name': 'Banda, Juan M.',\n",
       "   'givenName': 'Juan M.',\n",
       "   'familyName': 'Banda',\n",
       "   'affiliation': [{'name': 'Georgia State University'}],\n",
       "   'nameIdentifiers': [{'schemeUri': 'https://orcid.org',\n",
       "     'nameIdentifier': 'https://orcid.org/0000-0001-8499-824X',\n",
       "     'nameIdentifierScheme': 'ORCID'}]},\n",
       "  {'name': 'Tekumalla, Ramya',\n",
       "   'givenName': 'Ramya',\n",
       "   'familyName': 'Tekumalla',\n",
       "   'affiliation': [{'name': 'Georgia State University'}],\n",
       "   'nameIdentifiers': [{'schemeUri': 'https://orcid.org',\n",
       "     'nameIdentifier': 'https://orcid.org/0000-0002-1606-4856',\n",
       "     'nameIdentifierScheme': 'ORCID'}]},\n",
       "  {'name': 'Wang, Guanyu',\n",
       "   'givenName': 'Guanyu',\n",
       "   'familyName': 'Wang',\n",
       "   'affiliation': [{'name': 'University of Missouri'}]},\n",
       "  {'name': 'Yu, Jingyuan',\n",
       "   'givenName': 'Jingyuan',\n",
       "   'familyName': 'Yu',\n",
       "   'affiliation': [{'name': 'Universitat Autònoma de Barcelona'}]},\n",
       "  {'name': 'Liu, Tuo',\n",
       "   'givenName': 'Tuo',\n",
       "   'familyName': 'Liu',\n",
       "   'affiliation': [{'name': 'Carl von Ossietzky Universität Oldenburg'}]},\n",
       "  {'name': 'Ding, Yuning',\n",
       "   'givenName': 'Yuning',\n",
       "   'familyName': 'Ding',\n",
       "   'affiliation': [{'name': 'Universität Duisburg-Essen'}]},\n",
       "  {'name': 'Artemova, Katya',\n",
       "   'givenName': 'Katya',\n",
       "   'familyName': 'Artemova',\n",
       "   'affiliation': [{'name': 'NRU HSE'}]},\n",
       "  {'name': 'Tutubalina, Elena',\n",
       "   'givenName': 'Elena',\n",
       "   'familyName': 'Tutubalina',\n",
       "   'affiliation': [{'name': 'KFU'}]},\n",
       "  {'name': 'Chowell, Gerardo',\n",
       "   'givenName': 'Gerardo',\n",
       "   'familyName': 'Chowell',\n",
       "   'affiliation': [{'name': 'Georgia State University'}],\n",
       "   'nameIdentifiers': [{'schemeUri': 'https://orcid.org',\n",
       "     'nameIdentifier': 'https://orcid.org/0000-0003-2194-2251',\n",
       "     'nameIdentifierScheme': 'ORCID'}]}],\n",
       " 'titles': [{'title': 'A large-scale COVID-19 Twitter chatter dataset for open scientific research - an international collaboration'}],\n",
       " 'publisher': 'Zenodo',\n",
       " 'container': {'type': 'DataRepository',\n",
       "  'identifier': 'https://zenodo.org/communities/biohackathon',\n",
       "  'identifierType': 'URL'},\n",
       " 'subjects': [{'subject': 'social media'},\n",
       "  {'subject': 'twitter'},\n",
       "  {'subject': 'nlp'},\n",
       "  {'subject': 'covid-19'},\n",
       "  {'subject': 'covid19'}],\n",
       " 'contributors': [],\n",
       " 'dates': [{'date': '2021-10-10', 'dateType': 'Issued'}],\n",
       " 'publicationYear': 2021,\n",
       " 'language': 'en',\n",
       " 'identifiers': [{'identifier': 'https://github.com/thepanacealab/covid19_twitter',\n",
       "   'identifierType': 'URL'},\n",
       "  {'identifier': 'https://zenodo.org/record/5563162',\n",
       "   'identifierType': 'URL'}],\n",
       " 'sizes': [],\n",
       " 'formats': [],\n",
       " 'version': '83',\n",
       " 'rightsList': [{'rights': 'Open Access',\n",
       "   'rightsUri': 'info:eu-repo/semantics/openAccess'}],\n",
       " 'descriptions': [{'description': '<em><strong>Version 83 of the dataset. The peer-reviewed publication for this dataset has now been published in Epidemiologia an MDPI journal, and can be accessed here: https://doi.org/10.3390/epidemiologia2030024. Please cite this when using the dataset.</strong></em> <strong>Due to the relevance of the COVID-19 global pandemic, we are releasing our dataset of tweets acquired from the Twitter Stream related to COVID-19 chatter. Since our first release we have received additional data from our new collaborators, allowing this resource to grow to its current size. Dedicated data gathering started from March 11th yielding over 4 million tweets a day. We have added additional data provided by our new collaborators from January 27th to March 27th, to provide extra longitudinal coverage. Version 10 added ~1.5 million tweets in the Russian language collected between January 1st and May 8th, gracefully provided to us by: Katya Artemova (NRU HSE) and Elena Tutubalina (KFU). From version 12 we have included daily hashtags, mentions and emoijis and their frequencies the respective zip files. From version 14 <em>we</em> have included the tweet identifiers and their respective language for the clean version of the dataset. Since version 20 we have included language and place location for all tweets.</strong> <strong>The data collected from the stream captures all languages, but the higher prevalence are: English, Spanish, and French. We release all tweets and retweets on the full_dataset.tsv file (1,222,981,652 unique tweets), and a cleaned version with no retweets on the full_dataset-clean.tsv file (313,558,225 unique tweets). There are several practical reasons for us to leave the retweets, tracing important tweets and their dissemination is one of them. For NLP tasks we provide the top 1000 frequent terms in frequent_terms.csv, the top 1000 bigrams in frequent_bigrams.csv, and the top 1000 trigrams in frequent_trigrams.csv. Some general statistics per day are included for both datasets in the full_dataset-statistics.tsv and full_dataset-clean-statistics.tsv files. For more statistics and some visualizations visit: http://www.panacealab.org/covid19/ </strong> <strong>More details can be found (and will be updated faster at: https://github.com/thepanacealab/covid19_twitter) and our pre-print about the dataset (https://arxiv.org/abs/2004.03688) </strong> <strong>As always, the tweets distributed here are only tweet identifiers (with date and time added) due to the terms and conditions of Twitter to re-distribute Twitter data ONLY for research purposes. They need to be hydrated to be used.</strong>',\n",
       "   'descriptionType': 'Abstract'},\n",
       "  {'description': 'This dataset will be updated bi-weekly at least with additional tweets, look at the github repo for these updates. Release: We have standardized the name of the resource to match our pre-print manuscript and to not have to update it every week.',\n",
       "   'descriptionType': 'Other'}],\n",
       " 'geoLocations': [],\n",
       " 'fundingReferences': [],\n",
       " 'relatedIdentifiers': [{'relationType': 'IsContinuedBy',\n",
       "   'relatedIdentifier': 'http://www.panacealab.org/covid19/',\n",
       "   'resourceTypeGeneral': 'Other',\n",
       "   'relatedIdentifierType': 'URL'},\n",
       "  {'relationType': 'IsSupplementTo',\n",
       "   'relatedIdentifier': 'https://arxiv.org/abs/2004.03688',\n",
       "   'resourceTypeGeneral': 'Preprint',\n",
       "   'relatedIdentifierType': 'URL'},\n",
       "  {'relationType': 'IsVersionOf',\n",
       "   'relatedIdentifier': '10.5281/zenodo.3723939',\n",
       "   'relatedIdentifierType': 'DOI'},\n",
       "  {'relationType': 'IsPartOf',\n",
       "   'relatedIdentifier': 'https://zenodo.org/communities/biohackathon',\n",
       "   'relatedIdentifierType': 'URL'},\n",
       "  {'relationType': 'IsPartOf',\n",
       "   'relatedIdentifier': 'https://zenodo.org/communities/covid-19',\n",
       "   'relatedIdentifierType': 'URL'},\n",
       "  {'relationType': 'IsPartOf',\n",
       "   'relatedIdentifier': 'https://zenodo.org/communities/zenodo',\n",
       "   'relatedIdentifierType': 'URL'}],\n",
       " 'relatedItems': [],\n",
       " 'schemaVersion': 'http://datacite.org/schema/kernel-4',\n",
       " 'providerId': 'cern',\n",
       " 'clientId': 'cern.zenodo',\n",
       " 'agency': 'datacite',\n",
       " 'state': 'findable'}"
      ]
     },
     "execution_count": 5,
     "metadata": {},
     "output_type": "execute_result"
    }
   ],
   "source": [
    "doi_dataset"
   ]
  },
  {
   "cell_type": "code",
   "execution_count": 6,
   "id": "9a3d0fc3",
   "metadata": {},
   "outputs": [
    {
     "data": {
      "text/plain": [
       "dict"
      ]
     },
     "execution_count": 6,
     "metadata": {},
     "output_type": "execute_result"
    }
   ],
   "source": [
    "type(doi_dataset)"
   ]
  },
  {
   "cell_type": "code",
   "execution_count": 7,
   "id": "35889f6c",
   "metadata": {},
   "outputs": [
    {
     "data": {
      "text/plain": [
       "dict_keys(['id', 'doi', 'url', 'types', 'creators', 'titles', 'publisher', 'container', 'subjects', 'contributors', 'dates', 'publicationYear', 'language', 'identifiers', 'sizes', 'formats', 'version', 'rightsList', 'descriptions', 'geoLocations', 'fundingReferences', 'relatedIdentifiers', 'relatedItems', 'schemaVersion', 'providerId', 'clientId', 'agency', 'state'])"
      ]
     },
     "execution_count": 7,
     "metadata": {},
     "output_type": "execute_result"
    }
   ],
   "source": [
    "doi_dataset.keys()"
   ]
  },
  {
   "cell_type": "code",
   "execution_count": 8,
   "id": "7abcbd41",
   "metadata": {},
   "outputs": [
    {
     "data": {
      "text/plain": [
       "2021"
      ]
     },
     "execution_count": 8,
     "metadata": {},
     "output_type": "execute_result"
    }
   ],
   "source": [
    "doi_dataset[\"publicationYear\"]"
   ]
  },
  {
   "cell_type": "code",
   "execution_count": 9,
   "id": "4a974c67",
   "metadata": {},
   "outputs": [
    {
     "data": {
      "text/plain": [
       "[{'name': 'Banda, Juan M.',\n",
       "  'givenName': 'Juan M.',\n",
       "  'familyName': 'Banda',\n",
       "  'affiliation': [{'name': 'Georgia State University'}],\n",
       "  'nameIdentifiers': [{'schemeUri': 'https://orcid.org',\n",
       "    'nameIdentifier': 'https://orcid.org/0000-0001-8499-824X',\n",
       "    'nameIdentifierScheme': 'ORCID'}]},\n",
       " {'name': 'Tekumalla, Ramya',\n",
       "  'givenName': 'Ramya',\n",
       "  'familyName': 'Tekumalla',\n",
       "  'affiliation': [{'name': 'Georgia State University'}],\n",
       "  'nameIdentifiers': [{'schemeUri': 'https://orcid.org',\n",
       "    'nameIdentifier': 'https://orcid.org/0000-0002-1606-4856',\n",
       "    'nameIdentifierScheme': 'ORCID'}]},\n",
       " {'name': 'Wang, Guanyu',\n",
       "  'givenName': 'Guanyu',\n",
       "  'familyName': 'Wang',\n",
       "  'affiliation': [{'name': 'University of Missouri'}]},\n",
       " {'name': 'Yu, Jingyuan',\n",
       "  'givenName': 'Jingyuan',\n",
       "  'familyName': 'Yu',\n",
       "  'affiliation': [{'name': 'Universitat Autònoma de Barcelona'}]},\n",
       " {'name': 'Liu, Tuo',\n",
       "  'givenName': 'Tuo',\n",
       "  'familyName': 'Liu',\n",
       "  'affiliation': [{'name': 'Carl von Ossietzky Universität Oldenburg'}]},\n",
       " {'name': 'Ding, Yuning',\n",
       "  'givenName': 'Yuning',\n",
       "  'familyName': 'Ding',\n",
       "  'affiliation': [{'name': 'Universität Duisburg-Essen'}]},\n",
       " {'name': 'Artemova, Katya',\n",
       "  'givenName': 'Katya',\n",
       "  'familyName': 'Artemova',\n",
       "  'affiliation': [{'name': 'NRU HSE'}]},\n",
       " {'name': 'Tutubalina, Elena',\n",
       "  'givenName': 'Elena',\n",
       "  'familyName': 'Tutubalina',\n",
       "  'affiliation': [{'name': 'KFU'}]},\n",
       " {'name': 'Chowell, Gerardo',\n",
       "  'givenName': 'Gerardo',\n",
       "  'familyName': 'Chowell',\n",
       "  'affiliation': [{'name': 'Georgia State University'}],\n",
       "  'nameIdentifiers': [{'schemeUri': 'https://orcid.org',\n",
       "    'nameIdentifier': 'https://orcid.org/0000-0003-2194-2251',\n",
       "    'nameIdentifierScheme': 'ORCID'}]}]"
      ]
     },
     "execution_count": 9,
     "metadata": {},
     "output_type": "execute_result"
    }
   ],
   "source": [
    "doi_dataset[\"creators\"]"
   ]
  },
  {
   "cell_type": "code",
   "execution_count": 16,
   "id": "8f90b18c",
   "metadata": {},
   "outputs": [
    {
     "data": {
      "text/plain": [
       "'Wang, Guanyu'"
      ]
     },
     "execution_count": 16,
     "metadata": {},
     "output_type": "execute_result"
    }
   ],
   "source": [
    "doi_dataset[\"creators\"][2][\"name\"]"
   ]
  },
  {
   "cell_type": "code",
   "execution_count": 18,
   "id": "7418fc6f",
   "metadata": {},
   "outputs": [
    {
     "data": {
      "text/plain": [
       "'A large-scale COVID-19 Twitter chatter dataset for open scientific research - an international collaboration'"
      ]
     },
     "execution_count": 18,
     "metadata": {},
     "output_type": "execute_result"
    }
   ],
   "source": [
    "doi_dataset[\"titles\"][0][\"title\"]"
   ]
  },
  {
   "cell_type": "code",
   "execution_count": 30,
   "id": "675cfd0a",
   "metadata": {},
   "outputs": [
    {
     "name": "stdout",
     "output_type": "stream",
     "text": [
      "doi: \t\t\t10.6084/M9.FIGSHARE.155613\n",
      "resourceTypeGeneral: \tDataset\n",
      "publisher: \t\tfigshare\n",
      "title: \t\t\tgit repository for paper on git and reproducible science\n",
      "--- --- --- --- ---\n",
      "doi: \t\t\t10.6084/M9.FIGSHARE.153821.V1\n",
      "resourceTypeGeneral: \tDataset\n",
      "publisher: \t\tfigshare\n",
      "title: \t\t\tgit can facilitate greater reproducibility and increased transparency in science\n",
      "--- --- --- --- ---\n",
      "doi: \t\t\t10.7490/F1000RESEARCH.1115338.1\n",
      "resourceTypeGeneral: \tOther\n",
      "publisher: \t\tF1000 Research Limited\n",
      "title: \t\t\tThe role of the German National Library for Life Sciences ZB MED in the approach to a FAIR Research Data Infrastructure in Agricultural Science embedded in the Life Sciences\n",
      "--- --- --- --- ---\n",
      "doi: \t\t\t10.5281/ZENODO.2599866\n",
      "resourceTypeGeneral: \tOther\n",
      "publisher: \t\tZenodo\n",
      "title: \t\t\tNachnutzbare Awarenessmaterialien für Forschungsdatenmanagement (FDM)\n",
      "--- --- --- --- ---\n"
     ]
    }
   ],
   "source": [
    "for doi_url in dois:\n",
    "    doi_json = urllib.request.urlopen(base_url+doi_url).read()\n",
    "    doi_dict = json.loads(doi_json)\n",
    "    print(\"doi: \\t\\t\\t\" + doi_dict[\"doi\"])\n",
    "    print(\"resourceTypeGeneral: \\t\" + doi_dict[\"types\"][\"resourceTypeGeneral\"])\n",
    "    print(\"publisher: \\t\\t\" + doi_dict[\"publisher\"])\n",
    "    print(\"title: \\t\\t\\t\" + doi_dict[\"titles\"][0][\"title\"])\n",
    "    print(\"--- --- --- --- ---\")"
   ]
  },
  {
   "cell_type": "code",
   "execution_count": null,
   "id": "e93e6293",
   "metadata": {},
   "outputs": [],
   "source": []
  }
 ],
 "metadata": {
  "kernelspec": {
   "display_name": "Python 3 (ipykernel)",
   "language": "python",
   "name": "python3"
  },
  "language_info": {
   "codemirror_mode": {
    "name": "ipython",
    "version": 3
   },
   "file_extension": ".py",
   "mimetype": "text/x-python",
   "name": "python",
   "nbconvert_exporter": "python",
   "pygments_lexer": "ipython3",
   "version": "3.9.7"
  }
 },
 "nbformat": 4,
 "nbformat_minor": 5
}

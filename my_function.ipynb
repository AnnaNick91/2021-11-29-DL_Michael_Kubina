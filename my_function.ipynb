{
 "cells": [
  {
   "cell_type": "code",
   "execution_count": 1,
   "id": "ae7e153e",
   "metadata": {},
   "outputs": [],
   "source": [
    "dirty_isbns = [\n",
    "    \" ISBN 978-3-518-58773-7 \", \n",
    "    \"ISBN___978-1491946008 \",\n",
    "    \"ISBN 978-1593276034\"]"
   ]
  },
  {
   "cell_type": "code",
   "execution_count": 21,
   "id": "16360151",
   "metadata": {},
   "outputs": [],
   "source": [
    "def clean_isbn():\n",
    "    isbn = \" IsBN 978-3-518-58773-7 \"\n",
    "    \n",
    "    isbn = isbn.upper()\n",
    "    \n",
    "    # ersetze \"ISBN\" durch \"\"\n",
    "    isbn = isbn.replace(\"ISBN\", \"\")\n",
    "    \n",
    "    # entferne Leerzeichen am Anfang und am Ende\n",
    "    isbn = isbn.strip()\n",
    "    print(isbn)\n",
    "    print(str(len(isbn)) + \" symbols\")"
   ]
  },
  {
   "cell_type": "code",
   "execution_count": 22,
   "id": "d0802fc0",
   "metadata": {},
   "outputs": [
    {
     "name": "stdout",
     "output_type": "stream",
     "text": [
      "978-3-518-58773-7\n",
      "17 symbols\n"
     ]
    }
   ],
   "source": [
    "clean_isbn()"
   ]
  },
  {
   "cell_type": "code",
   "execution_count": 34,
   "id": "48cc4a1a",
   "metadata": {},
   "outputs": [],
   "source": [
    "import re\n",
    "\n",
    "def clean_isbn2(isbn):\n",
    "    #isbn = \" iSBN 978-5568-566-56-2\"\n",
    "    isbn = re.sub(r\"[^0-9X]\", \"\", isbn)\n",
    "    return isbn"
   ]
  },
  {
   "cell_type": "code",
   "execution_count": 35,
   "id": "b9a878e3",
   "metadata": {},
   "outputs": [
    {
     "data": {
      "text/plain": [
       "'978556856656X'"
      ]
     },
     "execution_count": 35,
     "metadata": {},
     "output_type": "execute_result"
    }
   ],
   "source": [
    "clean_isbn2(\" iSBN 978-5568-566-56-X\")"
   ]
  },
  {
   "cell_type": "code",
   "execution_count": null,
   "id": "44bcf3c7",
   "metadata": {},
   "outputs": [],
   "source": []
  }
 ],
 "metadata": {
  "kernelspec": {
   "display_name": "Python 3 (ipykernel)",
   "language": "python",
   "name": "python3"
  },
  "language_info": {
   "codemirror_mode": {
    "name": "ipython",
    "version": 3
   },
   "file_extension": ".py",
   "mimetype": "text/x-python",
   "name": "python",
   "nbconvert_exporter": "python",
   "pygments_lexer": "ipython3",
   "version": "3.9.7"
  }
 },
 "nbformat": 4,
 "nbformat_minor": 5
}
